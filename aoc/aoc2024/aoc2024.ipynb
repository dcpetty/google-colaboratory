{
  "cells": [
    {
      "cell_type": "markdown",
      "metadata": {
        "id": "view-in-github",
        "colab_type": "text"
      },
      "source": [
        "<a href=\"https://colab.research.google.com/github/dcpetty/google-colaboratory/blob/main/aoc/aoc2024/aoc2024.ipynb\" target=\"_parent\"><img src=\"https://colab.research.google.com/assets/colab-badge.svg\" alt=\"Open In Colab\"/></a>"
      ]
    },
    {
      "cell_type": "markdown",
      "metadata": {
        "id": "8vuyPSY2kWtt"
      },
      "source": [
        "# Advent of Code 2024\n",
        "\n",
        "This notebook is solutions to [2024 Advent of Code](https://adventofcode.com/2024/) challenges. [Real Python](https://realpython.com/) has a helpful [tutorial](https://realpython.com/python-advent-of-code/). There are some useful idioms for [Google Colab](https://colab.research.google.com/) [here](https://rohitmidha23.github.io/Colab-Tricks/).\n",
        "\n",
        "## <a name=\"toc24\">Table of Contents</a>\n",
        "\n",
        "| Day | <span style=\"color: #f90;\">&#9733;&#9733;</span>  | Title |&#8203;| Day | <span style=\"color: #f90;\">&#9733;&#9733;</span> | Title |\n",
        "| :--: | :-: | --- |---| :--: | :-: | --- |\n",
        "| [Day 1](#d1) | <span style=\"color: #f90;\"></span> | | &#8203;| [Day 13](#d13) | <span style=\"color: #f90;\"></span> | |\n",
        "| [Day 2](#d2) | <span style=\"color: #f90;\"></span> | | &#8203;| [Day 14](#d14) | <span style=\"color: #f90;\"></span> | |\n",
        "| [Day 3](#d3) | <span style=\"color: #f90;\"></span> | | &#8203;| [Day 15](#d15) | <span style=\"color: #f90;\"></span> | |\n",
        "| [Day 4](#d4) | <span style=\"color: #f90;\"></span> | | &#8203;| [Day 16](#d16) | <span style=\"color: #f90;\"></span> | |\n",
        "| [Day 5](#d5) | <span style=\"color: #f90;\"></span> | | &#8203;| [Day 17](#d17) | <span style=\"color: #f90;\"></span> | |\n",
        "| [Day 6](#d6) | <span style=\"color: #f90;\"></span> | | &#8203;| [Day 18](#d18) | <span style=\"color: #f90;\"></span> | |\n",
        "| [Day 7](#d7) | <span style=\"color: #f90;\"></span> | | &#8203;| [Day 19](#d19) | <span style=\"color: #f90;\"></span> | |\n",
        "| [Day 8](#d8) | <span style=\"color: #f90;\"></span> | | &#8203;| [Day 20](#d20) | <span style=\"color: #f90;\"></span> | |\n",
        "| [Day 9](#d9) | <span style=\"color: #f90;\"></span> | | &#8203;| [Day 21](#d21) | <span style=\"color: #f90;\"></span> | |\n",
        "| [Day 10](#d10) | <span style=\"color: #f90;\"></span> | | &#8203;| [Day 22](#d22) | <span style=\"color: #f90;\"></span> | |\n",
        "| [Day 11](#d11) | <span style=\"color: #f90;\"></span> | | &#8203;| [Day 23](#d23) | <span style=\"color: #f90;\"></span> | |\n",
        "| [Day 12](#d12) | <span style=\"color: #f90;\"></span> | | &#8203;| [Day 24](#d24) | <span style=\"color: #f90;\"></span> | |\n",
        "| | | | &#8203;| [Day 25](#d25) | <span style=\"color: #f90;\"></span> | |\n"
      ]
    },
    {
      "cell_type": "code",
      "execution_count": 4,
      "metadata": {
        "id": "yO7sANMJa5GR",
        "colab": {
          "base_uri": "https://localhost:8080/"
        },
        "outputId": "a49dedd1-adf6-4a83-d974-8dbd3b19b9ba"
      },
      "outputs": [
        {
          "output_type": "stream",
          "name": "stdout",
          "text": [
            "Drive already mounted at /content/gdrive; to attempt to forcibly remount, call drive.mount(\"/content/gdrive\", force_remount=True).\n",
            "[Errno 2] No such file or directory: 'gdrive/My Drive/Colab Notebooks/aoc/aoc2024'\n",
            "/content/gdrive/My Drive/Colab Notebooks/aoc/aoc2024\n"
          ]
        }
      ],
      "source": [
        "#!/usr/bin/env python3\n",
        "#\n",
        "# https://adventofcode.com/2024/\n",
        "#\n",
        "# Mount Google Drive and set lobal values.\n",
        "#\n",
        "from google.colab import drive\n",
        "drive.mount('/content/gdrive')\n",
        "%cd gdrive/My Drive/Colab Notebooks/aoc/aoc2024\n",
        "\n",
        "import collections, copy, functools, itertools, math, re, time\n",
        "verbose = False # whether to print data\n",
        "transpose = lambda m: [[m[c][r] for c in range(len(m))] for r in range(len(m[0]))]"
      ]
    },
    {
      "cell_type": "markdown",
      "metadata": {
        "id": "WES6N-VPj-Dv"
      },
      "source": [
        "---\n",
        "## [AoC Day 1](https://adventofcode.com/2024/day/1) &mdash; <a name=\"d1\"></a>\n",
        "\n",
        "## Part 1\n",
        "WWW\n",
        "\n",
        "### Strategy\n",
        "XXX\n",
        "\n",
        "## Part 2\n",
        "YYY\n",
        "\n",
        "### Strategy\n",
        "ZZZ\n",
        "\n",
        "[ToC](#toc24)"
      ]
    },
    {
      "cell_type": "code",
      "execution_count": 7,
      "metadata": {
        "colab": {
          "base_uri": "https://localhost:8080/"
        },
        "id": "_zJQIx37kBsh",
        "outputId": "9fc92496-28d4-4efe-965c-75f752c96907"
      },
      "outputs": [
        {
          "output_type": "stream",
          "name": "stdout",
          "text": [
            "# AOC 2024 01\n",
            "None\n",
            "None\n"
          ]
        }
      ],
      "source": [
        "#!/usr/bin/env python3\n",
        "#\n",
        "# https://adventofcode.com/2024/\n",
        "#\n",
        "# Solution to AoC for {day}.\n",
        "#\n",
        "\n",
        "day = 'AOC 2024 01'\n",
        "print(f'# {day}')\n",
        "with open(f\"./{day.replace(' ', '').lower()}.txt\") as text:\n",
        "    lines = [ line.strip() for line in list(text) if line.strip() ]\n",
        "test_lines = [ x for x in \"\"\"\n",
        "\"\"\".split('\\n') if x ]\n",
        "lines = test_lines\n",
        "\n",
        "# Parse lines into data.\n",
        "data = lines\n",
        "if verbose: print(data)\n",
        "\n",
        "def part1(data):\n",
        "    __doc__ = f\"\"\"Answer part 1 of {day}\"\"\"\n",
        "print(part1(data))\n",
        "\n",
        "# Test data for Part 2.\n",
        "test_lines = [ x for x in \"\"\"\n",
        "\"\"\".split('\\n') if x ]\n",
        "lines = test_lines\n",
        "\n",
        "# Parse lines into data.\n",
        "data = lines\n",
        "if verbose: print(data)\n",
        "\n",
        "def part2(data):\n",
        "    __doc__ = f\"\"\"Answer part 2 of {day}\"\"\"\n",
        "\n",
        "print(part2(data))"
      ]
    },
    {
      "cell_type": "markdown",
      "source": [
        "---\n",
        "## [AoC Day 2](https://adventofcode.com/2024/day/2) &mdash; <a name=\"d2\"></a>\n",
        "\n",
        "## Part 1\n",
        "WWW\n",
        "\n",
        "### Strategy\n",
        "XXX\n",
        "\n",
        "## Part 2\n",
        "YYY\n",
        "\n",
        "### Strategy\n",
        "ZZZ\n",
        "\n",
        "[ToC](#toc24)"
      ],
      "metadata": {
        "id": "4INOm8tYFL2V"
      }
    },
    {
      "cell_type": "code",
      "source": [
        "#!/usr/bin/env python3\n",
        "#\n",
        "# https://adventofcode.com/2024/\n",
        "#\n",
        "# Solution to AoC for {day}.\n",
        "#\n",
        "\n",
        "day = 'AOC 2024 02'\n",
        "print(f'# {day}')\n",
        "with open(f\"./{day.replace(' ', '').lower()}.txt\") as text:\n",
        "    lines = [ line.strip() for line in list(text) if line.strip() ]\n",
        "test_lines = [ x for x in \"\"\"\n",
        "\"\"\".split('\\n') if x ]\n",
        "lines = test_lines\n",
        "\n",
        "# Parse lines into data.\n",
        "data = lines\n",
        "if verbose: print(data)\n",
        "\n",
        "def part1(data):\n",
        "    __doc__ = f\"\"\"Answer part 1 of {day}\"\"\"\n",
        "print(part1(data))\n",
        "\n",
        "# Test data for Part 2.\n",
        "test_lines = [ x for x in \"\"\"\n",
        "\"\"\".split('\\n') if x ]\n",
        "lines = test_lines\n",
        "\n",
        "# Parse lines into data.\n",
        "data = lines\n",
        "if verbose: print(data)\n",
        "\n",
        "def part2(data):\n",
        "    __doc__ = f\"\"\"Answer part 2 of {day}\"\"\"\n",
        "\n",
        "print(part2(data))"
      ],
      "metadata": {
        "colab": {
          "base_uri": "https://localhost:8080/"
        },
        "id": "GMDh8SZpFP_u",
        "outputId": "526ac10a-8cd0-4081-d4ec-c867c2e735ca"
      },
      "execution_count": 6,
      "outputs": [
        {
          "output_type": "stream",
          "name": "stdout",
          "text": [
            "# AOC 2024 02\n",
            "None\n",
            "None\n"
          ]
        }
      ]
    }
  ],
  "metadata": {
    "colab": {
      "provenance": [],
      "include_colab_link": true
    },
    "kernelspec": {
      "display_name": "Python 3 (ipykernel)",
      "language": "python",
      "name": "python3"
    },
    "language_info": {
      "codemirror_mode": {
        "name": "ipython",
        "version": 3
      },
      "file_extension": ".py",
      "mimetype": "text/x-python",
      "name": "python",
      "nbconvert_exporter": "python",
      "pygments_lexer": "ipython3",
      "version": "3.12.1"
    },
    "vscode": {
      "interpreter": {
        "hash": "aee8b7b246df8f9039afb4144a1f6fd8d2ca17a180786b69acc140d282b71a49"
      }
    }
  },
  "nbformat": 4,
  "nbformat_minor": 0
}