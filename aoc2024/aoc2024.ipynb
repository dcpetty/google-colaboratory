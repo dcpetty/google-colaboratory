{
  "cells": [
    {
      "cell_type": "markdown",
      "metadata": {
        "id": "view-in-github",
        "colab_type": "text"
      },
      "source": [
        "<a href=\"https://colab.research.google.com/github/dcpetty/google-colaboratory/blob/main/aoc2024/aoc2024.ipynb\" target=\"_parent\"><img src=\"https://colab.research.google.com/assets/colab-badge.svg\" alt=\"Open In Colab\"/></a>"
      ]
    },
    {
      "cell_type": "markdown",
      "metadata": {
        "id": "8vuyPSY2kWtt"
      },
      "source": [
        "# Advent of Code 2024\n",
        "\n",
        "This notebook is solutions to [2024 Advent of Code](https://adventofcode.com/2024/) challenges. [Real Python](https://realpython.com/) has a helpful [tutorial](https://realpython.com/python-advent-of-code/).\n",
        "\n",
        "## <a name=\"toc24\">Table of Contents</a>\n",
        "\n",
        "| Day | <span style=\"color: #f90;\">&#9733;&#9733;</span>  | Title |&#8203;| Day | <span style=\"color: #f90;\"></span> | Title |\n",
        "| :--: | :-: | --- |---| :--: | :-: | --- |\n",
        "| [Day 1](#d1) | <span style=\"color: #f90;\"></span> | | &#8203;| [Day 13](#d13) | <span style=\"color: #f90;\"></span> | |\n",
        "| [Day 2](#d2) | <span style=\"color: #f90;\"></span> | | &#8203;| [Day 14](#d14) | <span style=\"color: #f90;\"></span> | |\n",
        "| [Day 3](#d3) | <span style=\"color: #f90;\"></span> | | &#8203;| [Day 15](#d15) | <span style=\"color: #f90;\"></span> | |\n",
        "| [Day 4](#d4) | <span style=\"color: #f90;\"></span> | | &#8203;| [Day 16](#d16) | <span style=\"color: #f90;\"></span> | |\n",
        "| [Day 5](#d5) | <span style=\"color: #f90;\"></span> | | &#8203;| [Day 17](#d17) | <span style=\"color: #f90;\"></span> | |\n",
        "| [Day 6](#d6) | <span style=\"color: #f90;\"></span> | | &#8203;| [Day 18](#d18) | <span style=\"color: #f90;\"></span> | |\n",
        "| [Day 7](#d7) | <span style=\"color: #f90;\"></span> | | &#8203;| [Day 19](#d19) | <span style=\"color: #f90;\"></span> | |\n",
        "| [Day 8](#d8) | <span style=\"color: #f90;\"></span> | | &#8203;| [Day 20](#d20) | <span style=\"color: #f90;\"></span> | |\n",
        "| [Day 9](#d9) | <span style=\"color: #f90;\"></span> | | &#8203;| [Day 21](#d21) | <span style=\"color: #f90;\"></span> | |\n",
        "| [Day 10](#d10) | <span style=\"color: #f90;\"></span> | | &#8203;| [Day 22](#d22) | <span style=\"color: #f90;\"></span> | |\n",
        "| [Day 11](#d11) | <span style=\"color: #f90;\"></span> | | &#8203;| [Day 23](#d23) | <span style=\"color: #f90;\"></span> | |\n",
        "| [Day 12](#d12) | <span style=\"color: #f90;\"></span> | | &#8203;| [Day 24](#d24) | <span style=\"color: #f90;\"></span> | |\n",
        "| | | | &#8203;| [Day 25](#d25) | <span style=\"color: #f90;\"></span> | |\n"
      ]
    },
    {
      "cell_type": "code",
      "execution_count": 1,
      "metadata": {
        "id": "yO7sANMJa5GR"
      },
      "outputs": [],
      "source": [
        "#!/usr/bin/env python3\n",
        "#\n",
        "# https://adventofcode.com/2024/\n",
        "#\n",
        "# Global values\n",
        "#\n",
        "import collections, copy, functools, itertools, math, re, time\n",
        "verbose = False # whether to print data\n",
        "transpose = lambda m: [[m[c][r] for c in range(len(m))] for r in range(len(m[0]))]"
      ]
    },
    {
      "cell_type": "markdown",
      "metadata": {
        "id": "WES6N-VPj-Dv"
      },
      "source": [
        "---\n",
        "## [AoC Day 1](https://adventofcode.com/2024/day/1) &mdash; <a name=\"d1\"></a>\n",
        "\n",
        "## Part 1\n",
        "WWW\n",
        "\n",
        "### Strategy\n",
        "XXX\n",
        "\n",
        "## Part 2\n",
        "YYY\n",
        "\n",
        "### Strategy\n",
        "ZZZ\n",
        "\n",
        "\n",
        "[ToC](#toc24)"
      ]
    },
    {
      "cell_type": "code",
      "execution_count": 2,
      "metadata": {
        "colab": {
          "base_uri": "https://localhost:8080/",
          "height": 245
        },
        "id": "_zJQIx37kBsh",
        "outputId": "6762f144-81c2-48fa-b469-3ca86c3abc1f"
      },
      "outputs": [
        {
          "output_type": "stream",
          "name": "stdout",
          "text": [
            "# AOC 2024 01\n",
            "/content\n"
          ]
        },
        {
          "output_type": "error",
          "ename": "FileNotFoundError",
          "evalue": "[Errno 2] No such file or directory: './aoc202401.txt'",
          "traceback": [
            "\u001b[0;31m---------------------------------------------------------------------------\u001b[0m",
            "\u001b[0;31mFileNotFoundError\u001b[0m                         Traceback (most recent call last)",
            "\u001b[0;32m<ipython-input-2-53065fa7350d>\u001b[0m in \u001b[0;36m<cell line: 11>\u001b[0;34m()\u001b[0m\n\u001b[1;32m      9\u001b[0m \u001b[0mprint\u001b[0m\u001b[0;34m(\u001b[0m\u001b[0;34mf'# {day}'\u001b[0m\u001b[0;34m)\u001b[0m\u001b[0;34m\u001b[0m\u001b[0;34m\u001b[0m\u001b[0m\n\u001b[1;32m     10\u001b[0m \u001b[0mget_ipython\u001b[0m\u001b[0;34m(\u001b[0m\u001b[0;34m)\u001b[0m\u001b[0;34m.\u001b[0m\u001b[0msystem\u001b[0m\u001b[0;34m(\u001b[0m\u001b[0;34m'pwd'\u001b[0m\u001b[0;34m)\u001b[0m\u001b[0;34m\u001b[0m\u001b[0;34m\u001b[0m\u001b[0m\n\u001b[0;32m---> 11\u001b[0;31m \u001b[0;32mwith\u001b[0m \u001b[0mopen\u001b[0m\u001b[0;34m(\u001b[0m\u001b[0;34mf\"./{day.replace(' ', '').lower()}.txt\"\u001b[0m\u001b[0;34m)\u001b[0m \u001b[0;32mas\u001b[0m \u001b[0mtext\u001b[0m\u001b[0;34m:\u001b[0m\u001b[0;34m\u001b[0m\u001b[0;34m\u001b[0m\u001b[0m\n\u001b[0m\u001b[1;32m     12\u001b[0m     \u001b[0mlines\u001b[0m \u001b[0;34m=\u001b[0m \u001b[0;34m[\u001b[0m \u001b[0mline\u001b[0m\u001b[0;34m.\u001b[0m\u001b[0mstrip\u001b[0m\u001b[0;34m(\u001b[0m\u001b[0;34m)\u001b[0m \u001b[0;32mfor\u001b[0m \u001b[0mline\u001b[0m \u001b[0;32min\u001b[0m \u001b[0mlist\u001b[0m\u001b[0;34m(\u001b[0m\u001b[0mtext\u001b[0m\u001b[0;34m)\u001b[0m \u001b[0;32mif\u001b[0m \u001b[0mline\u001b[0m\u001b[0;34m.\u001b[0m\u001b[0mstrip\u001b[0m\u001b[0;34m(\u001b[0m\u001b[0;34m)\u001b[0m \u001b[0;34m]\u001b[0m\u001b[0;34m\u001b[0m\u001b[0;34m\u001b[0m\u001b[0m\n\u001b[1;32m     13\u001b[0m test_lines = [ x for x in \"\"\"\n",
            "\u001b[0;31mFileNotFoundError\u001b[0m: [Errno 2] No such file or directory: './aoc202401.txt'"
          ]
        }
      ],
      "source": [
        "#!/usr/bin/env python3\n",
        "#\n",
        "# https://adventofcode.com/2024/\n",
        "#\n",
        "# Solution to AoC for {day}.\n",
        "#\n",
        "\n",
        "day = 'AOC 2024 01'\n",
        "print(f'# {day}')\n",
        "!pwd\n",
        "with open(f\"./{day.replace(' ', '').lower()}.txt\") as text:\n",
        "    lines = [ line.strip() for line in list(text) if line.strip() ]\n",
        "test_lines = [ x for x in \"\"\"\n",
        "\"\"\".split('\\n') if x ]\n",
        "lines = test_lines\n",
        "\n",
        "# Parse lines into data.\n",
        "data = lines\n",
        "if verbose: print(data)\n",
        "\n",
        "def part1(data):\n",
        "    __doc__ = f\"\"\"Answer part 1 of {day}\"\"\"\n",
        "print(part1(data))\n",
        "\n",
        "# Test data for Part 2.\n",
        "test_lines = [ x for x in \"\"\"\n",
        "\"\"\".split('\\n') if x ]\n",
        "lines = test_lines\n",
        "\n",
        "# Parse lines into data.\n",
        "data = lines\n",
        "if verbose: print(data)\n",
        "\n",
        "def part2(data):\n",
        "    __doc__ = f\"\"\"Answer part 2 of {day}\"\"\"\n",
        "\n",
        "print(part2(data))"
      ]
    }
  ],
  "metadata": {
    "colab": {
      "provenance": [],
      "include_colab_link": true
    },
    "kernelspec": {
      "display_name": "Python 3 (ipykernel)",
      "language": "python",
      "name": "python3"
    },
    "language_info": {
      "codemirror_mode": {
        "name": "ipython",
        "version": 3
      },
      "file_extension": ".py",
      "mimetype": "text/x-python",
      "name": "python",
      "nbconvert_exporter": "python",
      "pygments_lexer": "ipython3",
      "version": "3.12.1"
    },
    "vscode": {
      "interpreter": {
        "hash": "aee8b7b246df8f9039afb4144a1f6fd8d2ca17a180786b69acc140d282b71a49"
      }
    }
  },
  "nbformat": 4,
  "nbformat_minor": 0
}